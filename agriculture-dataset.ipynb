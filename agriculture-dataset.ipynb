{
 "cells": [
  {
   "cell_type": "code",
   "execution_count": 1,
   "id": "383a995e",
   "metadata": {
    "_cell_guid": "b1076dfc-b9ad-4769-8c92-a6c4dae69d19",
    "_uuid": "8f2839f25d086af736a60e9eeb907d3b93b6e0e5",
    "execution": {
     "iopub.execute_input": "2023-07-08T17:58:31.567982Z",
     "iopub.status.busy": "2023-07-08T17:58:31.567263Z",
     "iopub.status.idle": "2023-07-08T17:58:31.584680Z",
     "shell.execute_reply": "2023-07-08T17:58:31.583722Z"
    },
    "papermill": {
     "duration": 0.025662,
     "end_time": "2023-07-08T17:58:31.586548",
     "exception": false,
     "start_time": "2023-07-08T17:58:31.560886",
     "status": "completed"
    },
    "tags": []
   },
   "outputs": [
    {
     "name": "stdout",
     "output_type": "stream",
     "text": [
      "/kaggle/input/current-daily-price-of-various-commodities-india/daily_price.csv\n"
     ]
    }
   ],
   "source": [
    "# This Python 3 environment comes with many helpful analytics libraries installed\n",
    "# It is defined by the kaggle/python Docker image: https://github.com/kaggle/docker-python\n",
    "# For example, here's several helpful packages to load\n",
    "\n",
    "import numpy as np # linear algebra\n",
    "import pandas as pd # data processing, CSV file I/O (e.g. pd.read_csv)\n",
    "\n",
    "# Input data files are available in the read-only \"../input/\" directory\n",
    "# For example, running this (by clicking run or pressing Shift+Enter) will list all files under the input directory\n",
    "\n",
    "import os\n",
    "for dirname, _, filenames in os.walk('/kaggle/input'):\n",
    "    for filename in filenames:\n",
    "        print(os.path.join(dirname, filename))\n",
    "\n",
    "# You can write up to 20GB to the current directory (/kaggle/working/) that gets preserved as output when you create a version using \"Save & Run All\" \n",
    "# You can also write temporary files to /kaggle/temp/, but they won't be saved outside of the current session"
   ]
  },
  {
   "cell_type": "markdown",
   "id": "7ce5005b",
   "metadata": {
    "papermill": {
     "duration": 0.003753,
     "end_time": "2023-07-08T17:58:31.594625",
     "exception": false,
     "start_time": "2023-07-08T17:58:31.590872",
     "status": "completed"
    },
    "tags": []
   },
   "source": [
    "# Project Summary"
   ]
  },
  {
   "cell_type": "markdown",
   "id": "4ef5d504",
   "metadata": {
    "papermill": {
     "duration": 0.003626,
     "end_time": "2023-07-08T17:58:31.602321",
     "exception": false,
     "start_time": "2023-07-08T17:58:31.598695",
     "status": "completed"
    },
    "tags": []
   },
   "source": [
    "Project Summary: Exploratory Data Analysis (EDA) of Daily Prices of Commodities in India\n",
    "\n",
    "The goal of this project is to perform an exploratory data analysis (EDA) on a dataset that contains daily prices of various commodities in India across different states and districts. The dataset includes information such as the wholesale maximum price, minimum price, and modal price for each commodity on a daily basis.\n",
    "\n",
    "The EDA process will involve several key steps to gain insights and understand the characteristics of the dataset. Here is an outline of the EDA process for this project:\n",
    "\n",
    "**Data Collection:** Acquire the dataset containing daily commodity prices in India for different states and districts. The dataset may be obtained from reliable sources such as government databases, market reports, or research organizations.\n",
    "\n",
    "**Data Cleaning and Preprocessing:** This step involves cleaning the dataset to handle missing values, outliers, and inconsistencies. Data preprocessing techniques such as data normalization, standardization, and feature engineering may be applied as needed.\n",
    "\n",
    "**Descriptive Statistics:** Calculate descriptive statistics for the dataset, including measures such as mean, median, mode, standard deviation, and range. This will provide an initial understanding of the distribution and central tendencies of the commodity prices.\n",
    "\n",
    "**Data Visualization:** Create visual representations of the data using plots, charts, and graphs. Visualizations like line charts, box plots, scatter plots, and histograms can be used to analyze trends, distributions, and relationships between variables.\n",
    "\n",
    "**Temporal Analysis:** Explore the temporal aspects of the data by examining the price fluctuations over time. This analysis can reveal seasonal patterns, trends, and any cyclical behavior in the commodity prices.\n",
    "\n",
    "**Regional Analysis:** Analyze the variations in commodity prices across different states and districts. Compare the maximum, minimum, and modal prices across regions to identify any significant differences or similarities. Heatmaps, bar charts, and geographical visualizations can aid in this analysis.\n",
    "\n",
    "**Correlation Analysis:** Investigate the relationships between commodity prices and other relevant factors. For example, explore the correlation between commodity prices and factors such as supply, demand, market conditions, or weather patterns.\n",
    "\n",
    "**Outlier Detection:** Identify and analyze any outliers in the dataset that may significantly deviate from the expected price range. Determine whether these outliers are valid data points or anomalies that need to be addressed.\n",
    "\n",
    "**Key Findings and Insights:** Summarize the key findings from the EDA, including notable trends, patterns, and relationships discovered during the analysis. Provide insights and recommendations based on the analysis results.\n",
    "\n",
    "**Conclusion:** Conclude the EDA project by summarizing the main outcomes, limitations, and potential areas for further investigation. Reflect on the significance of the analysis in understanding the daily commodity prices in India and its implications for various stakeholders.\n",
    "\n",
    "By conducting this EDA on the daily commodity prices dataset, valuable insights can be gained, which can be useful for policymakers, traders, farmers, and other stakeholders involved in the agricultural and commodity markets in India."
   ]
  },
  {
   "cell_type": "markdown",
   "id": "2b94c114",
   "metadata": {
    "papermill": {
     "duration": 0.003912,
     "end_time": "2023-07-08T17:58:31.610112",
     "exception": false,
     "start_time": "2023-07-08T17:58:31.606200",
     "status": "completed"
    },
    "tags": []
   },
   "source": [
    "# About Dataset"
   ]
  },
  {
   "cell_type": "markdown",
   "id": "30c73cd2",
   "metadata": {
    "papermill": {
     "duration": 0.003726,
     "end_time": "2023-07-08T17:58:31.618164",
     "exception": false,
     "start_time": "2023-07-08T17:58:31.614438",
     "status": "completed"
    },
    "tags": []
   },
   "source": [
    "The data refers to Daily prices of various commodities in India of all the states and districts. It has the wholesale maximum price, minimum price and modal price on daily basis. This dataset is generated through the AGMARKNET Portal (http://agmarknet.gov.in), which disseminates daily market information of various commodities.\n",
    "\n",
    "According to the AGMARKNET Portal, the prices in the dataset refer to the wholesale prices of various commodities per quintal (100 kg) in Indian rupees. The wholesale price is the price at which goods are sold in large quantities to retailers or distributors."
   ]
  },
  {
   "cell_type": "markdown",
   "id": "6775682f",
   "metadata": {
    "papermill": {
     "duration": 0.003671,
     "end_time": "2023-07-08T17:58:31.625825",
     "exception": false,
     "start_time": "2023-07-08T17:58:31.622154",
     "status": "completed"
    },
    "tags": []
   },
   "source": [
    "# Business Objective"
   ]
  },
  {
   "cell_type": "markdown",
   "id": "fd0cd8d7",
   "metadata": {
    "papermill": {
     "duration": 0.004114,
     "end_time": "2023-07-08T17:58:31.635319",
     "exception": false,
     "start_time": "2023-07-08T17:58:31.631205",
     "status": "completed"
    },
    "tags": []
   },
   "source": [
    "**Market analysis:** You can use this dataset to analyze trends and patterns in the wholesale prices of various commodities across different markets in India. This can help you understand factors that affect prices, such as supply and demand, seasonality, and market conditions.\n",
    "\n",
    "**Commodity recommendation:** Develop recommender systems that suggest the best markets or commodities for farmers or traders to sell or buy based on their location, preferences, and market conditions."
   ]
  },
  {
   "cell_type": "code",
   "execution_count": 2,
   "id": "f7fcc484",
   "metadata": {
    "execution": {
     "iopub.execute_input": "2023-07-08T17:58:31.646438Z",
     "iopub.status.busy": "2023-07-08T17:58:31.645262Z",
     "iopub.status.idle": "2023-07-08T17:58:33.120332Z",
     "shell.execute_reply": "2023-07-08T17:58:33.119394Z"
    },
    "papermill": {
     "duration": 1.482965,
     "end_time": "2023-07-08T17:58:33.122645",
     "exception": false,
     "start_time": "2023-07-08T17:58:31.639680",
     "status": "completed"
    },
    "tags": []
   },
   "outputs": [],
   "source": [
    "#import library\n",
    "import numpy as np\n",
    "import pandas as pd\n",
    "import matplotlib\n",
    "import matplotlib.pyplot as plt\n",
    "import seaborn as sns\n",
    "%matplotlib inline"
   ]
  },
  {
   "cell_type": "code",
   "execution_count": 3,
   "id": "316a0f99",
   "metadata": {
    "execution": {
     "iopub.execute_input": "2023-07-08T17:58:33.132194Z",
     "iopub.status.busy": "2023-07-08T17:58:33.131765Z",
     "iopub.status.idle": "2023-07-08T17:58:33.197668Z",
     "shell.execute_reply": "2023-07-08T17:58:33.196404Z"
    },
    "papermill": {
     "duration": 0.072986,
     "end_time": "2023-07-08T17:58:33.199767",
     "exception": false,
     "start_time": "2023-07-08T17:58:33.126781",
     "status": "completed"
    },
    "tags": []
   },
   "outputs": [
    {
     "data": {
      "text/html": [
       "<div>\n",
       "<style scoped>\n",
       "    .dataframe tbody tr th:only-of-type {\n",
       "        vertical-align: middle;\n",
       "    }\n",
       "\n",
       "    .dataframe tbody tr th {\n",
       "        vertical-align: top;\n",
       "    }\n",
       "\n",
       "    .dataframe thead th {\n",
       "        text-align: right;\n",
       "    }\n",
       "</style>\n",
       "<table border=\"1\" class=\"dataframe\">\n",
       "  <thead>\n",
       "    <tr style=\"text-align: right;\">\n",
       "      <th></th>\n",
       "      <th>State</th>\n",
       "      <th>District</th>\n",
       "      <th>Market</th>\n",
       "      <th>Commodity</th>\n",
       "      <th>Variety</th>\n",
       "      <th>Grade</th>\n",
       "      <th>Min Price</th>\n",
       "      <th>Max Price</th>\n",
       "      <th>Modal Price</th>\n",
       "    </tr>\n",
       "  </thead>\n",
       "  <tbody>\n",
       "    <tr>\n",
       "      <th>0</th>\n",
       "      <td>Andhra Pradesh</td>\n",
       "      <td>Chittor</td>\n",
       "      <td>Chittoor</td>\n",
       "      <td>Gur(Jaggery)</td>\n",
       "      <td>NO 2</td>\n",
       "      <td>FAQ</td>\n",
       "      <td>3200.0</td>\n",
       "      <td>3400.0</td>\n",
       "      <td>3200.0</td>\n",
       "    </tr>\n",
       "    <tr>\n",
       "      <th>1</th>\n",
       "      <td>Andhra Pradesh</td>\n",
       "      <td>Chittor</td>\n",
       "      <td>Chittoor</td>\n",
       "      <td>Mango</td>\n",
       "      <td>Neelam</td>\n",
       "      <td>Medium</td>\n",
       "      <td>700.0</td>\n",
       "      <td>1500.0</td>\n",
       "      <td>1200.0</td>\n",
       "    </tr>\n",
       "    <tr>\n",
       "      <th>2</th>\n",
       "      <td>Andhra Pradesh</td>\n",
       "      <td>Chittor</td>\n",
       "      <td>Chittoor</td>\n",
       "      <td>Mango</td>\n",
       "      <td>Totapuri</td>\n",
       "      <td>Medium</td>\n",
       "      <td>1400.0</td>\n",
       "      <td>1800.0</td>\n",
       "      <td>1600.0</td>\n",
       "    </tr>\n",
       "    <tr>\n",
       "      <th>3</th>\n",
       "      <td>Andhra Pradesh</td>\n",
       "      <td>Cuddapah</td>\n",
       "      <td>Cuddapah</td>\n",
       "      <td>Groundnut</td>\n",
       "      <td>Local</td>\n",
       "      <td>FAQ</td>\n",
       "      <td>4059.0</td>\n",
       "      <td>7589.0</td>\n",
       "      <td>7559.0</td>\n",
       "    </tr>\n",
       "    <tr>\n",
       "      <th>4</th>\n",
       "      <td>Andhra Pradesh</td>\n",
       "      <td>Cuddapah</td>\n",
       "      <td>Cuddapah</td>\n",
       "      <td>Turmeric</td>\n",
       "      <td>Bulb</td>\n",
       "      <td>FAQ</td>\n",
       "      <td>4778.0</td>\n",
       "      <td>6160.0</td>\n",
       "      <td>5845.0</td>\n",
       "    </tr>\n",
       "  </tbody>\n",
       "</table>\n",
       "</div>"
      ],
      "text/plain": [
       "            State  District    Market     Commodity   Variety   Grade  \\\n",
       "0  Andhra Pradesh   Chittor  Chittoor  Gur(Jaggery)      NO 2     FAQ   \n",
       "1  Andhra Pradesh   Chittor  Chittoor         Mango    Neelam  Medium   \n",
       "2  Andhra Pradesh   Chittor  Chittoor         Mango  Totapuri  Medium   \n",
       "3  Andhra Pradesh  Cuddapah  Cuddapah     Groundnut     Local     FAQ   \n",
       "4  Andhra Pradesh  Cuddapah  Cuddapah      Turmeric      Bulb     FAQ   \n",
       "\n",
       "   Min Price  Max Price  Modal Price  \n",
       "0     3200.0     3400.0       3200.0  \n",
       "1      700.0     1500.0       1200.0  \n",
       "2     1400.0     1800.0       1600.0  \n",
       "3     4059.0     7589.0       7559.0  \n",
       "4     4778.0     6160.0       5845.0  "
      ]
     },
     "execution_count": 3,
     "metadata": {},
     "output_type": "execute_result"
    }
   ],
   "source": [
    "#load the dataset\n",
    "df=pd.read_csv(\"/kaggle/input/current-daily-price-of-various-commodities-india/daily_price.csv\")\n",
    "df.head()"
   ]
  },
  {
   "cell_type": "code",
   "execution_count": 4,
   "id": "35953950",
   "metadata": {
    "execution": {
     "iopub.execute_input": "2023-07-08T17:58:33.209924Z",
     "iopub.status.busy": "2023-07-08T17:58:33.209583Z",
     "iopub.status.idle": "2023-07-08T17:58:33.239578Z",
     "shell.execute_reply": "2023-07-08T17:58:33.238576Z"
    },
    "papermill": {
     "duration": 0.038175,
     "end_time": "2023-07-08T17:58:33.242185",
     "exception": false,
     "start_time": "2023-07-08T17:58:33.204010",
     "status": "completed"
    },
    "tags": []
   },
   "outputs": [
    {
     "name": "stdout",
     "output_type": "stream",
     "text": [
      "<class 'pandas.core.frame.DataFrame'>\n",
      "RangeIndex: 5557 entries, 0 to 5556\n",
      "Data columns (total 9 columns):\n",
      " #   Column       Non-Null Count  Dtype  \n",
      "---  ------       --------------  -----  \n",
      " 0   State        5557 non-null   object \n",
      " 1   District     5557 non-null   object \n",
      " 2   Market       5557 non-null   object \n",
      " 3   Commodity    5557 non-null   object \n",
      " 4   Variety      5557 non-null   object \n",
      " 5   Grade        5557 non-null   object \n",
      " 6   Min Price    5557 non-null   float64\n",
      " 7   Max Price    5557 non-null   float64\n",
      " 8   Modal Price  5557 non-null   float64\n",
      "dtypes: float64(3), object(6)\n",
      "memory usage: 390.9+ KB\n"
     ]
    }
   ],
   "source": [
    "#information about the dataset\n",
    "df.info()"
   ]
  },
  {
   "cell_type": "code",
   "execution_count": 5,
   "id": "ae58a781",
   "metadata": {
    "execution": {
     "iopub.execute_input": "2023-07-08T17:58:33.252196Z",
     "iopub.status.busy": "2023-07-08T17:58:33.251857Z",
     "iopub.status.idle": "2023-07-08T17:58:33.257715Z",
     "shell.execute_reply": "2023-07-08T17:58:33.256620Z"
    },
    "papermill": {
     "duration": 0.013345,
     "end_time": "2023-07-08T17:58:33.260057",
     "exception": false,
     "start_time": "2023-07-08T17:58:33.246712",
     "status": "completed"
    },
    "tags": []
   },
   "outputs": [
    {
     "data": {
      "text/plain": [
       "(5557, 9)"
      ]
     },
     "execution_count": 5,
     "metadata": {},
     "output_type": "execute_result"
    }
   ],
   "source": [
    "#how many rows and columns\n",
    "df.shape"
   ]
  },
  {
   "cell_type": "code",
   "execution_count": 6,
   "id": "a7401c9b",
   "metadata": {
    "execution": {
     "iopub.execute_input": "2023-07-08T17:58:33.270693Z",
     "iopub.status.busy": "2023-07-08T17:58:33.270375Z",
     "iopub.status.idle": "2023-07-08T17:58:33.283123Z",
     "shell.execute_reply": "2023-07-08T17:58:33.282108Z"
    },
    "papermill": {
     "duration": 0.020943,
     "end_time": "2023-07-08T17:58:33.285689",
     "exception": false,
     "start_time": "2023-07-08T17:58:33.264746",
     "status": "completed"
    },
    "tags": []
   },
   "outputs": [
    {
     "data": {
      "text/plain": [
       "State          0\n",
       "District       0\n",
       "Market         0\n",
       "Commodity      0\n",
       "Variety        0\n",
       "Grade          0\n",
       "Min Price      0\n",
       "Max Price      0\n",
       "Modal Price    0\n",
       "dtype: int64"
      ]
     },
     "execution_count": 6,
     "metadata": {},
     "output_type": "execute_result"
    }
   ],
   "source": [
    "#find null values sum\n",
    "df.isnull().sum()"
   ]
  },
  {
   "cell_type": "code",
   "execution_count": 7,
   "id": "17fb7702",
   "metadata": {
    "execution": {
     "iopub.execute_input": "2023-07-08T17:58:33.296579Z",
     "iopub.status.busy": "2023-07-08T17:58:33.296223Z",
     "iopub.status.idle": "2023-07-08T17:58:33.316095Z",
     "shell.execute_reply": "2023-07-08T17:58:33.315223Z"
    },
    "papermill": {
     "duration": 0.028044,
     "end_time": "2023-07-08T17:58:33.318515",
     "exception": false,
     "start_time": "2023-07-08T17:58:33.290471",
     "status": "completed"
    },
    "tags": []
   },
   "outputs": [
    {
     "data": {
      "text/html": [
       "<div>\n",
       "<style scoped>\n",
       "    .dataframe tbody tr th:only-of-type {\n",
       "        vertical-align: middle;\n",
       "    }\n",
       "\n",
       "    .dataframe tbody tr th {\n",
       "        vertical-align: top;\n",
       "    }\n",
       "\n",
       "    .dataframe thead th {\n",
       "        text-align: right;\n",
       "    }\n",
       "</style>\n",
       "<table border=\"1\" class=\"dataframe\">\n",
       "  <thead>\n",
       "    <tr style=\"text-align: right;\">\n",
       "      <th></th>\n",
       "      <th>Min Price</th>\n",
       "      <th>Max Price</th>\n",
       "      <th>Modal Price</th>\n",
       "    </tr>\n",
       "  </thead>\n",
       "  <tbody>\n",
       "    <tr>\n",
       "      <th>count</th>\n",
       "      <td>5557.000000</td>\n",
       "      <td>5557.000000</td>\n",
       "      <td>5557.000000</td>\n",
       "    </tr>\n",
       "    <tr>\n",
       "      <th>mean</th>\n",
       "      <td>4109.732091</td>\n",
       "      <td>4694.127320</td>\n",
       "      <td>4417.495256</td>\n",
       "    </tr>\n",
       "    <tr>\n",
       "      <th>std</th>\n",
       "      <td>4667.234302</td>\n",
       "      <td>5236.560123</td>\n",
       "      <td>4962.823629</td>\n",
       "    </tr>\n",
       "    <tr>\n",
       "      <th>min</th>\n",
       "      <td>0.000000</td>\n",
       "      <td>0.000000</td>\n",
       "      <td>0.720000</td>\n",
       "    </tr>\n",
       "    <tr>\n",
       "      <th>25%</th>\n",
       "      <td>1700.000000</td>\n",
       "      <td>2000.000000</td>\n",
       "      <td>1900.000000</td>\n",
       "    </tr>\n",
       "    <tr>\n",
       "      <th>50%</th>\n",
       "      <td>2660.000000</td>\n",
       "      <td>3100.000000</td>\n",
       "      <td>3000.000000</td>\n",
       "    </tr>\n",
       "    <tr>\n",
       "      <th>75%</th>\n",
       "      <td>5300.000000</td>\n",
       "      <td>5950.000000</td>\n",
       "      <td>5550.000000</td>\n",
       "    </tr>\n",
       "    <tr>\n",
       "      <th>max</th>\n",
       "      <td>95000.000000</td>\n",
       "      <td>115000.000000</td>\n",
       "      <td>110000.000000</td>\n",
       "    </tr>\n",
       "  </tbody>\n",
       "</table>\n",
       "</div>"
      ],
      "text/plain": [
       "          Min Price      Max Price    Modal Price\n",
       "count   5557.000000    5557.000000    5557.000000\n",
       "mean    4109.732091    4694.127320    4417.495256\n",
       "std     4667.234302    5236.560123    4962.823629\n",
       "min        0.000000       0.000000       0.720000\n",
       "25%     1700.000000    2000.000000    1900.000000\n",
       "50%     2660.000000    3100.000000    3000.000000\n",
       "75%     5300.000000    5950.000000    5550.000000\n",
       "max    95000.000000  115000.000000  110000.000000"
      ]
     },
     "execution_count": 7,
     "metadata": {},
     "output_type": "execute_result"
    }
   ],
   "source": [
    "#about the dataset variables\n",
    "df.describe()"
   ]
  },
  {
   "cell_type": "code",
   "execution_count": 8,
   "id": "f15578bd",
   "metadata": {
    "execution": {
     "iopub.execute_input": "2023-07-08T17:58:33.329682Z",
     "iopub.status.busy": "2023-07-08T17:58:33.329323Z",
     "iopub.status.idle": "2023-07-08T17:58:33.334433Z",
     "shell.execute_reply": "2023-07-08T17:58:33.333758Z"
    },
    "papermill": {
     "duration": 0.012658,
     "end_time": "2023-07-08T17:58:33.336013",
     "exception": false,
     "start_time": "2023-07-08T17:58:33.323355",
     "status": "completed"
    },
    "tags": []
   },
   "outputs": [
    {
     "data": {
      "text/plain": [
       "['State',\n",
       " 'District',\n",
       " 'Market',\n",
       " 'Commodity',\n",
       " 'Variety',\n",
       " 'Grade',\n",
       " 'Min Price',\n",
       " 'Max Price',\n",
       " 'Modal Price']"
      ]
     },
     "execution_count": 8,
     "metadata": {},
     "output_type": "execute_result"
    }
   ],
   "source": [
    "#list of dataset column\n",
    "list(df.columns)"
   ]
  },
  {
   "cell_type": "code",
   "execution_count": 9,
   "id": "82f80369",
   "metadata": {
    "execution": {
     "iopub.execute_input": "2023-07-08T17:58:33.347624Z",
     "iopub.status.busy": "2023-07-08T17:58:33.346829Z",
     "iopub.status.idle": "2023-07-08T17:58:33.356978Z",
     "shell.execute_reply": "2023-07-08T17:58:33.356103Z"
    },
    "papermill": {
     "duration": 0.018067,
     "end_time": "2023-07-08T17:58:33.358930",
     "exception": false,
     "start_time": "2023-07-08T17:58:33.340863",
     "status": "completed"
    },
    "tags": []
   },
   "outputs": [
    {
     "data": {
      "text/plain": [
       "State           23\n",
       "District       245\n",
       "Market         531\n",
       "Commodity      186\n",
       "Variety        293\n",
       "Grade            4\n",
       "Min Price      855\n",
       "Max Price      947\n",
       "Modal Price    991\n",
       "dtype: int64"
      ]
     },
     "execution_count": 9,
     "metadata": {},
     "output_type": "execute_result"
    }
   ],
   "source": [
    "#find unique vaule of each variable\n",
    "df.nunique()"
   ]
  },
  {
   "cell_type": "markdown",
   "id": "33781fdc",
   "metadata": {
    "papermill": {
     "duration": 0.004678,
     "end_time": "2023-07-08T17:58:33.368973",
     "exception": false,
     "start_time": "2023-07-08T17:58:33.364295",
     "status": "completed"
    },
    "tags": []
   },
   "source": [
    "# ******Variables Description"
   ]
  },
  {
   "cell_type": "markdown",
   "id": "dc6cd0e5",
   "metadata": {
    "papermill": {
     "duration": 0.004611,
     "end_time": "2023-07-08T17:58:33.378509",
     "exception": false,
     "start_time": "2023-07-08T17:58:33.373898",
     "status": "completed"
    },
    "tags": []
   },
   "source": [
    "****State: The state in India where the market is located.\n",
    "\n",
    "District: The district in India where the market is located.\n",
    "\n",
    "Market: The name of the market.\n",
    "\n",
    "Commodity: The name of the commodity.\n",
    "\n",
    "Variety: The variety of the commodity.\n",
    "\n",
    "Grade: The grade or quality of the commodity.\n",
    "\n",
    "Min Price: (INR) The minimum wholesale price of the commodity on a given day, per quintal (100 kg).\n",
    "\n",
    "Max Price: (INR) The maximum wholesale price of the commodity on a given day, per quintal (100 kg).\n",
    "\n",
    "Modal Price: (INR) The most common or representative wholesale price of the commodity on a given day, per quintal (100 kg).\n",
    "\n",
    "1 INR = 0.012 USD (as on 7 July, 2023)**"
   ]
  },
  {
   "cell_type": "markdown",
   "id": "ab7e756d",
   "metadata": {
    "papermill": {
     "duration": 0.004723,
     "end_time": "2023-07-08T17:58:33.388032",
     "exception": false,
     "start_time": "2023-07-08T17:58:33.383309",
     "status": "completed"
    },
    "tags": []
   },
   "source": [
    "# ****Data visualisation"
   ]
  },
  {
   "cell_type": "code",
   "execution_count": 10,
   "id": "77060c7b",
   "metadata": {
    "execution": {
     "iopub.execute_input": "2023-07-08T17:58:33.400203Z",
     "iopub.status.busy": "2023-07-08T17:58:33.399623Z",
     "iopub.status.idle": "2023-07-08T17:58:33.592373Z",
     "shell.execute_reply": "2023-07-08T17:58:33.590977Z"
    },
    "papermill": {
     "duration": 0.200797,
     "end_time": "2023-07-08T17:58:33.594352",
     "exception": false,
     "start_time": "2023-07-08T17:58:33.393555",
     "status": "completed"
    },
    "tags": []
   },
   "outputs": [
    {
     "data": {
      "text/plain": [
       "<Axes: xlabel='Grade', ylabel='count'>"
      ]
     },
     "execution_count": 10,
     "metadata": {},
     "output_type": "execute_result"
    },
    {
     "data": {
      "image/png": "[encoded data removed]",
      "text/plain": [
       "<Figure size 640x480 with 1 Axes>"
      ]
     },
     "metadata": {},
     "output_type": "display_data"
    }
   ],
   "source": [
    "#lets visualise the variables\n",
    "#grade represent the quality of commodity\n",
    "sns.countplot(x= 'Grade', data=df)"
   ]
  }
 ],
 "metadata": {
  "kernelspec": {
   "display_name": "Python 3",
   "language": "python",
   "name": "python3"
  },
  "language_info": {
   "codemirror_mode": {
    "name": "ipython",
    "version": 3
   },
   "file_extension": ".py",
   "mimetype": "text/x-python",
   "name": "python",
   "nbconvert_exporter": "python",
   "pygments_lexer": "ipython3",
   "version": "3.10.10"
  },
  "papermill": {
   "default_parameters": {},
   "duration": 14.348546,
   "end_time": "2023-07-08T17:58:36.894258",
   "environment_variables": {},
   "exception": null,
   "input_path": "__notebook__.ipynb",
   "output_path": "__notebook__.ipynb",
   "parameters": {},
   "start_time": "2023-07-08T17:58:22.545712",
   "version": "2.4.0"
  }
 },
 "nbformat": 4,
 "nbformat_minor": 5
}
